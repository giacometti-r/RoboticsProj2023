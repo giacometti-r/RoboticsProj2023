{
 "cells": [
  {
   "cell_type": "code",
   "execution_count": 1,
   "metadata": {},
   "outputs": [],
   "source": [
    "import numpy as np\n",
    "import matplotlib.pyplot as plt\n",
    "import importlib\n",
    "import ipywidgets as iw\n",
    "import dronesim\n",
    "from pid import PID\n",
    "import good_controller as cont"
   ]
  },
  {
   "cell_type": "code",
   "execution_count": 2,
   "metadata": {},
   "outputs": [],
   "source": [
    "def simulate(cd, target_x, target_y): # simulate a ControlledDrone instance...\n",
    "    dt = 0.03 # timestep\n",
    "    ts = np.arange(0,10,dt)\n",
    "    xs,ys,thetas,lts,rts = [],[],[],[],[] # save here the x,y,theta coordinates of the drone\n",
    "    for t in ts:\n",
    "        cd.step(dt, target_x, target_y)\n",
    "        x,y = cd.drone.getxy()\n",
    "        xs.append(x)\n",
    "        ys.append(y)\n",
    "        lts.append(cd.drone.lt)\n",
    "        rts.append(cd.drone.rt)\n",
    "        thetas.append(cd.drone.gettheta())\n",
    "        print(cd.controller.tt, cd.controller.tdiff)\n",
    "    fig,axs = plt.subplots(nrows=4, sharex=True, figsize=(8,12))\n",
    "    axs[0].plot(ts,xs)\n",
    "    axs[0].axhline(target_x, color='red')\n",
    "    axs[0].set(ylabel=\"x position [m]\")\n",
    "    axs[1].plot(ts,ys)\n",
    "    axs[1].axhline(target_y, color='red')\n",
    "    axs[1].set(ylabel=\"height [m]\")\n",
    "    axs[2].plot(ts,np.rad2deg(thetas))\n",
    "    axs[2].set(ylabel=\"theta [deg]\")\n",
    "    axs[3].plot(ts,lts)\n",
    "    axs[3].plot(ts,rts)\n",
    "    axs[3].set(ylabel=\"thrust [N]\", xlabel = \"time [s]\")"
   ]
  },
  {
   "cell_type": "code",
   "execution_count": 3,
   "metadata": {},
   "outputs": [
    {
     "ename": "AttributeError",
     "evalue": "'Controller' object has no attribute 'tt'",
     "output_type": "error",
     "traceback": [
      "\u001b[0;31m---------------------------------------------------------------------------\u001b[0m",
      "\u001b[0;31mAttributeError\u001b[0m                            Traceback (most recent call last)",
      "\u001b[1;32m/Users/riccardogiacometti/Documents/Semester2/Robotics/Project/RoboticsProj2023/2d_drone/pid_tuning.ipynb Cell 3\u001b[0m in \u001b[0;36m6\n\u001b[1;32m      <a href='vscode-notebook-cell:/Users/riccardogiacometti/Documents/Semester2/Robotics/Project/RoboticsProj2023/2d_drone/pid_tuning.ipynb#W4sZmlsZQ%3D%3D?line=3'>4</a>\u001b[0m c \u001b[39m=\u001b[39m cont\u001b[39m.\u001b[39mController(maxthrust\u001b[39m=\u001b[39md\u001b[39m.\u001b[39mmaxthrust)\n\u001b[1;32m      <a href='vscode-notebook-cell:/Users/riccardogiacometti/Documents/Semester2/Robotics/Project/RoboticsProj2023/2d_drone/pid_tuning.ipynb#W4sZmlsZQ%3D%3D?line=4'>5</a>\u001b[0m cd \u001b[39m=\u001b[39m dronesim\u001b[39m.\u001b[39mControlledDrone(drone\u001b[39m=\u001b[39md, controller\u001b[39m=\u001b[39mc)\n\u001b[0;32m----> <a href='vscode-notebook-cell:/Users/riccardogiacometti/Documents/Semester2/Robotics/Project/RoboticsProj2023/2d_drone/pid_tuning.ipynb#W4sZmlsZQ%3D%3D?line=5'>6</a>\u001b[0m simulate(cd, target_x\u001b[39m=\u001b[39;49m\u001b[39m0\u001b[39;49m, target_y\u001b[39m=\u001b[39;49m\u001b[39m10\u001b[39;49m)\n",
      "\u001b[1;32m/Users/riccardogiacometti/Documents/Semester2/Robotics/Project/RoboticsProj2023/2d_drone/pid_tuning.ipynb Cell 3\u001b[0m in \u001b[0;36m1\n\u001b[1;32m     <a href='vscode-notebook-cell:/Users/riccardogiacometti/Documents/Semester2/Robotics/Project/RoboticsProj2023/2d_drone/pid_tuning.ipynb#W4sZmlsZQ%3D%3D?line=10'>11</a>\u001b[0m     rts\u001b[39m.\u001b[39mappend(cd\u001b[39m.\u001b[39mdrone\u001b[39m.\u001b[39mrt)\n\u001b[1;32m     <a href='vscode-notebook-cell:/Users/riccardogiacometti/Documents/Semester2/Robotics/Project/RoboticsProj2023/2d_drone/pid_tuning.ipynb#W4sZmlsZQ%3D%3D?line=11'>12</a>\u001b[0m     thetas\u001b[39m.\u001b[39mappend(cd\u001b[39m.\u001b[39mdrone\u001b[39m.\u001b[39mgettheta())\n\u001b[0;32m---> <a href='vscode-notebook-cell:/Users/riccardogiacometti/Documents/Semester2/Robotics/Project/RoboticsProj2023/2d_drone/pid_tuning.ipynb#W4sZmlsZQ%3D%3D?line=12'>13</a>\u001b[0m     \u001b[39mprint\u001b[39m(cd\u001b[39m.\u001b[39;49mcontroller\u001b[39m.\u001b[39;49mtt, cd\u001b[39m.\u001b[39mcontroller\u001b[39m.\u001b[39mtdiff)\n\u001b[1;32m     <a href='vscode-notebook-cell:/Users/riccardogiacometti/Documents/Semester2/Robotics/Project/RoboticsProj2023/2d_drone/pid_tuning.ipynb#W4sZmlsZQ%3D%3D?line=13'>14</a>\u001b[0m fig,axs \u001b[39m=\u001b[39m plt\u001b[39m.\u001b[39msubplots(nrows\u001b[39m=\u001b[39m\u001b[39m4\u001b[39m, sharex\u001b[39m=\u001b[39m\u001b[39mTrue\u001b[39;00m, figsize\u001b[39m=\u001b[39m(\u001b[39m8\u001b[39m,\u001b[39m12\u001b[39m))\n\u001b[1;32m     <a href='vscode-notebook-cell:/Users/riccardogiacometti/Documents/Semester2/Robotics/Project/RoboticsProj2023/2d_drone/pid_tuning.ipynb#W4sZmlsZQ%3D%3D?line=14'>15</a>\u001b[0m axs[\u001b[39m0\u001b[39m]\u001b[39m.\u001b[39mplot(ts,xs)\n",
      "\u001b[0;31mAttributeError\u001b[0m: 'Controller' object has no attribute 'tt'"
     ]
    }
   ],
   "source": [
    "importlib.reload(cont) # make sure we have the latest version if it was edited\n",
    "initial_pose = dronesim.mktr(0,0) @ dronesim.mkrot(0)\n",
    "d = dronesim.Drone2D(initial_pose=initial_pose, mass=1, L=1, maxthrust=1000)\n",
    "c = cont.Controller(maxthrust=d.maxthrust)\n",
    "cd = dronesim.ControlledDrone(drone=d, controller=c)\n",
    "simulate(cd, target_x=0, target_y=10)"
   ]
  }
 ],
 "metadata": {
  "kernelspec": {
   "display_name": "base",
   "language": "python",
   "name": "python3"
  },
  "language_info": {
   "codemirror_mode": {
    "name": "ipython",
    "version": 3
   },
   "file_extension": ".py",
   "mimetype": "text/x-python",
   "name": "python",
   "nbconvert_exporter": "python",
   "pygments_lexer": "ipython3",
   "version": "3.9.13"
  },
  "orig_nbformat": 4
 },
 "nbformat": 4,
 "nbformat_minor": 2
}
