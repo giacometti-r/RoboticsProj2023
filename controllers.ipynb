{
 "cells": [
  {
   "cell_type": "code",
   "execution_count": null,
   "metadata": {},
   "outputs": [],
   "source": [
    "#Implement controllers\n",
    "#Implement controller-estimators\n",
    "#Plot with step response\n",
    "#Plot with different trajectories\n",
    "#Compute Tracking error of all models plot\n",
    "#Compute Estimation error for all KF's"
   ]
  },
  {
   "cell_type": "code",
   "execution_count": null,
   "metadata": {},
   "outputs": [],
   "source": [
    "#Implements feedback loop for controller and estimator\n",
    "class ControllerEstimator:\n",
    "    def __init__(self, controller, estimator):\n",
    "        self.controller = controller\n",
    "        self.estimator = estimator\n",
    "\n",
    "    #initialize controller and observer\n",
    "    def initialize(self, state=None, control=None):\n",
    "        self.controller.initialize(self, state, control)\n",
    "        self.estimator.initialize(self, state, control)\n",
    "\n",
    "    #Take state and target and return control signal\n",
    "    def step(self, state, target):\n",
    "       #Get state estimate\n",
    "        estimation = self.estimator.step(state)\n",
    "\n",
    "        #get control signal given state estimate\n",
    "        error = target - estimation\n",
    "        control = self.controller.step(error)\n",
    "\n",
    "        return control\n",
    "    \n",
    "    #get trajectory\n",
    "    def getTrajectory(self):\n",
    "        return self.estimator.getTrajectory()"
   ]
  },
  {
   "cell_type": "code",
   "execution_count": null,
   "metadata": {},
   "outputs": [],
   "source": [
    "#Template class for controllers\n",
    "class LinearController:\n",
    "    def __init__(self, dt, mingain=-float(\"inf\"), maxgain=float(\"inf\")):\n",
    "        #set timestep\n",
    "        self.dt = dt\n",
    "\n",
    "        #define min and max gains\n",
    "        self.mingain = mingain\n",
    "        self.maxgain = maxgain\n",
    "\n",
    "    #Change timestep\n",
    "    def dtUpdate(self, dt):\n",
    "        self.dt = dt\n",
    "\n",
    "    #Initialize controller\n",
    "    def initialize(self, state=None, control=None)\n",
    "        pass\n",
    "\n",
    "    #Run step of controller given error\n",
    "    def step(self, error, equilibrium=None):\n",
    "        pass"
   ]
  },
  {
   "cell_type": "code",
   "execution_count": null,
   "metadata": {},
   "outputs": [],
   "source": [
    "#Proportional Integral Derivative Controller\n",
    "class ProportionalIntegralDerivative(LinearController):\n",
    "    def __init__(self, kp, ki, kd, dt, mingain=-float(\"inf\"), maxgain=float(\"inf\")):\n",
    "        super.__init__(self, dt, mingain, maxgain)\n",
    "        self.kp = kp\n",
    "        self.ki = ki\n",
    "        self.kd = kd\n",
    "\n",
    "    def step(self, error):\n",
    "        #D: compute dedt\n",
    "        if self.e_last is not None:\n",
    "            dedt = (error - self.e_last) / self.dt\n",
    "        else:\n",
    "            dedt = 0\n",
    "\n",
    "        #I: compute integral\n",
    "        self.int_e += error * self.dt\n",
    "\n",
    "        #PID: compute gain\n",
    "        gain = (self.kp * error) + (self.ki * self.int_e) + (self.kd * dedt)\n",
    "        self.e_last = error\n",
    "\n",
    "        return min(max(self.mingain, gain), self.maxgain)"
   ]
  },
  {
   "cell_type": "code",
   "execution_count": null,
   "metadata": {},
   "outputs": [],
   "source": [
    "#Lead-Lag Compensator\n",
    "class LeadLagCompensator(LinearController):\n",
    "    def __init__(self, k, dt, mingain=-float(\"inf\"), maxgain=float(\"inf\"), discrete=True):\n",
    "        super.__init__(self, dt, mingain, maxgain)\n",
    "\n",
    "\n",
    "    def "
   ]
  },
  {
   "cell_type": "code",
   "execution_count": null,
   "metadata": {},
   "outputs": [],
   "source": [
    "#Cascaded PID for Planar Dynamical Systems with q = [x,y,theta]\n",
    "class CascadedPlanarController(LinearController):\n",
    "    def __init__(self, K, dt, mingain=-float(\"inf\"), maxgain=float(\"inf\")):\n",
    "        super.__init__(self, dt, mingain, maxgain)\n",
    "\n",
    "        #check for type of cascade (thrust coupling???)\n",
    "        self.coupled = True\n",
    "        if K.shape\n",
    "\n",
    "    #Define cascading\n",
    "    def step(self, error):\n",
    "        #Coupled vs. uncoupled thrust\n",
    "        gain = 0.0\n",
    "        if self.coupled:\n",
    "\n",
    "        else:\n",
    "\n",
    "\n",
    "        return gain\n",
    "\n"
   ]
  },
  {
   "cell_type": "code",
   "execution_count": null,
   "metadata": {},
   "outputs": [],
   "source": [
    "#Cascaded Lead/Lag Compensator Response\n"
   ]
  },
  {
   "cell_type": "code",
   "execution_count": null,
   "metadata": {},
   "outputs": [],
   "source": [
    "#Cascaded Discrete Lead/Lag Compensator Response\n"
   ]
  },
  {
   "cell_type": "code",
   "execution_count": null,
   "metadata": {},
   "outputs": [],
   "source": [
    "#Pole Placement Response\n"
   ]
  },
  {
   "cell_type": "code",
   "execution_count": null,
   "metadata": {},
   "outputs": [],
   "source": [
    "#Controllers with Kalman Filter (Weiner model)\n"
   ]
  },
  {
   "cell_type": "code",
   "execution_count": null,
   "metadata": {},
   "outputs": [],
   "source": [
    "#Controllers with Kalman Filter (Linearized model)\n"
   ]
  },
  {
   "cell_type": "code",
   "execution_count": null,
   "metadata": {},
   "outputs": [],
   "source": [
    "#Controllers with Extended Kalman Filter\n"
   ]
  }
 ],
 "metadata": {
  "language_info": {
   "name": "python"
  },
  "orig_nbformat": 4
 },
 "nbformat": 4,
 "nbformat_minor": 2
}
