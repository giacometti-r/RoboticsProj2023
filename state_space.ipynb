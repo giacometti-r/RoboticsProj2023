{
 "cells": [
  {
   "cell_type": "code",
   "execution_count": null,
   "metadata": {},
   "outputs": [],
   "source": [
    "import numpy as np"
   ]
  },
  {
   "cell_type": "code",
   "execution_count": null,
   "metadata": {},
   "outputs": [],
   "source": [
    "#Defines state space controllers\n",
    "def StateController(LinearController):\n",
    "    def __init__(self, dynamics, state, control, mingain=-float(\"inf\"), maxgain=float(\"inf\")):\n",
    "        super.__init__(self, mingain, maxgain)\n",
    "        \n",
    "        #define initial state dynamics state space\n",
    "        self.A, self.B = self.dynamics.ss(state, control)\n",
    "        self.equilibrium  = [state, control]\n",
    "\n",
    "        #controller variables\n",
    "        self.K = self._compute()\n",
    "        self.stable = self._stability()\n",
    "\n",
    "    #Compute controller\n",
    "    def _compute(self):\n",
    "        pass\n",
    "\n",
    "    #Check Lyapunov stability\n",
    "    def _stable(self):\n",
    "\n",
    "\n",
    "        return stable"
   ]
  },
  {
   "cell_type": "code",
   "execution_count": null,
   "metadata": {},
   "outputs": [],
   "source": [
    "\n",
    "class LinearQuadraticRegulator(StateController):\n",
    "    def __init__(self, dynamics, state, control, mingain=-float(\"inf\"), maxgain=float(\"inf\")):\n",
    "        super.__init__(self, dynamics, state, control, mingain, maxgain)\n",
    "\n",
    "        #Define optimal controller\n",
    "        self.P = None\n",
    "    \n",
    "    #Compute optimal controller\n",
    "    def _compute(self, ):\n",
    "        #compute optimal controller\n",
    "\n",
    "\n",
    "        #Check stability\n",
    "\n",
    "\n",
    "    #Return optimal controler results: [P, K]\n",
    "    def get(self):\n",
    "        \n",
    "\n",
    "        return \n",
    "    \n",
    "    #\n",
    "    def step(self, error, state):\n",
    "\n",
    "\n",
    "        return gain"
   ]
  },
  {
   "cell_type": "code",
   "execution_count": null,
   "metadata": {},
   "outputs": [],
   "source": [
    "#LQR Response\n"
   ]
  },
  {
   "cell_type": "code",
   "execution_count": null,
   "metadata": {},
   "outputs": [],
   "source": [
    "#LQG Response\n"
   ]
  },
  {
   "cell_type": "code",
   "execution_count": null,
   "metadata": {},
   "outputs": [],
   "source": [
    "\n",
    "class ModelPredictiveControl(Controller):\n",
    "    def __init__(self, ):\n",
    "        super.__init__(self, )"
   ]
  },
  {
   "cell_type": "code",
   "execution_count": null,
   "metadata": {},
   "outputs": [],
   "source": []
  }
 ],
 "metadata": {
  "language_info": {
   "name": "python"
  },
  "orig_nbformat": 4
 },
 "nbformat": 4,
 "nbformat_minor": 2
}
